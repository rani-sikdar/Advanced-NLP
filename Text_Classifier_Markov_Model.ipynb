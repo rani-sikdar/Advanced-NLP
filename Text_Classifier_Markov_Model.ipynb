{
  "nbformat": 4,
  "nbformat_minor": 0,
  "metadata": {
    "colab": {
      "provenance": [],
      "authorship_tag": "ABX9TyPU2VOY6AUcoYvcY3yQXpC0",
      "include_colab_link": true
    },
    "kernelspec": {
      "name": "python3",
      "display_name": "Python 3"
    },
    "language_info": {
      "name": "python"
    }
  },
  "cells": [
    {
      "cell_type": "markdown",
      "metadata": {
        "id": "view-in-github",
        "colab_type": "text"
      },
      "source": [
        "<a href=\"https://colab.research.google.com/github/rani-sikdar/Advanced-NLP/blob/main/Text_Classifier_Markov_Model.ipynb\" target=\"_parent\"><img src=\"https://colab.research.google.com/assets/colab-badge.svg\" alt=\"Open In Colab\"/></a>"
      ]
    },
    {
      "cell_type": "code",
      "execution_count": 1,
      "metadata": {
        "colab": {
          "base_uri": "https://localhost:8080/"
        },
        "collapsed": true,
        "id": "rnC9QClWkIYH",
        "outputId": "a36f768a-35a8-4856-ed60-3b69b3ea5e43"
      },
      "outputs": [
        {
          "output_type": "stream",
          "name": "stdout",
          "text": [
            "--2025-04-12 06:01:06--  https://raw.githubusercontent.com/lazyprogrammer/machine_learning_examples/master/hmm_class/edgar_allan_poe.txt\n",
            "Resolving raw.githubusercontent.com (raw.githubusercontent.com)... 185.199.111.133, 185.199.109.133, 185.199.108.133, ...\n",
            "Connecting to raw.githubusercontent.com (raw.githubusercontent.com)|185.199.111.133|:443... connected.\n",
            "HTTP request sent, awaiting response... 200 OK\n",
            "Length: 26622 (26K) [text/plain]\n",
            "Saving to: ‘edgar_allan_poe.txt’\n",
            "\n",
            "edgar_allan_poe.txt 100%[===================>]  26.00K  --.-KB/s    in 0.002s  \n",
            "\n",
            "2025-04-12 06:01:07 (11.1 MB/s) - ‘edgar_allan_poe.txt’ saved [26622/26622]\n",
            "\n",
            "--2025-04-12 06:01:07--  https://raw.githubusercontent.com/lazyprogrammer/machine_learning_examples/master/hmm_class/robert_frost.txt\n",
            "Resolving raw.githubusercontent.com (raw.githubusercontent.com)... 185.199.108.133, 185.199.109.133, 185.199.110.133, ...\n",
            "Connecting to raw.githubusercontent.com (raw.githubusercontent.com)|185.199.108.133|:443... connected.\n",
            "HTTP request sent, awaiting response... 200 OK\n",
            "Length: 56286 (55K) [text/plain]\n",
            "Saving to: ‘robert_frost.txt’\n",
            "\n",
            "robert_frost.txt    100%[===================>]  54.97K  --.-KB/s    in 0.009s  \n",
            "\n",
            "2025-04-12 06:01:07 (5.66 MB/s) - ‘robert_frost.txt’ saved [56286/56286]\n",
            "\n"
          ]
        }
      ],
      "source": [
        "!wget -nc https://raw.githubusercontent.com/lazyprogrammer/machine_learning_examples/master/hmm_class/edgar_allan_poe.txt\n",
        "!wget -nc https://raw.githubusercontent.com/lazyprogrammer/machine_learning_examples/master/hmm_class/robert_frost.txt"
      ]
    },
    {
      "cell_type": "code",
      "source": [
        "import pandas as pd\n",
        "import matplotlib.pyplot as plt\n",
        "import string\n",
        "from sklearn.model_selection import train_test_split"
      ],
      "metadata": {
        "id": "cs1TiOvZlS3-"
      },
      "execution_count": 2,
      "outputs": []
    },
    {
      "cell_type": "code",
      "source": [
        "input_files=[\n",
        "    'edgar_allan_poe.txt',\n",
        "    'robert_frost.txt'\n",
        "]"
      ],
      "metadata": {
        "id": "SRpEF18RlS6a"
      },
      "execution_count": 3,
      "outputs": []
    },
    {
      "cell_type": "code",
      "source": [
        "!head edgar_allan_poe.txt"
      ],
      "metadata": {
        "colab": {
          "base_uri": "https://localhost:8080/"
        },
        "id": "Jq635rSblS9V",
        "outputId": "c03128a1-3ebb-45b4-de44-1fb89a3ac97a"
      },
      "execution_count": 4,
      "outputs": [
        {
          "output_type": "stream",
          "name": "stdout",
          "text": [
            "LO! Death hath rear'd himself a throne\n",
            "In a strange city, all alone,\n",
            "Far down within the dim west\n",
            "Where the good, and the bad, and the worst, and the best,\n",
            "Have gone to their eternal rest.\n",
            " \n",
            "There shrines, and palaces, and towers\n",
            "Are not like any thing of ours\n",
            "Oh no! O no! ours never loom\n",
            "To heaven with that ungodly gloom!\n"
          ]
        }
      ]
    },
    {
      "cell_type": "code",
      "source": [
        "!head robert_frost.txt"
      ],
      "metadata": {
        "colab": {
          "base_uri": "https://localhost:8080/"
        },
        "id": "taPta1M1lTAP",
        "outputId": "bb16c255-9477-4f1c-d463-8f26350eac7f"
      },
      "execution_count": 5,
      "outputs": [
        {
          "output_type": "stream",
          "name": "stdout",
          "text": [
            "Two roads diverged in a yellow wood,\n",
            "And sorry I could not travel both\n",
            "And be one traveler, long I stood\n",
            "And looked down one as far as I could\n",
            "To where it bent in the undergrowth; \n",
            "\n",
            "Then took the other, as just as fair,\n",
            "And having perhaps the better claim\n",
            "Because it was grassy and wanted wear,\n",
            "Though as for that the passing there\n"
          ]
        }
      ]
    },
    {
      "cell_type": "code",
      "source": [
        "# collect data into lists\n",
        "input_texts =[]\n",
        "labels =[]\n",
        "\n",
        "for label, x in enumerate(input_files):\n",
        "  print(\"{} corresponds to label {}\".format(x,label))\n",
        "\n",
        "  for line in open(x):\n",
        "    line = line.rstrip().lower()\n",
        "    # print(line)\n",
        "\n",
        "    if line:\n",
        "      # remove punctuation\n",
        "      line = line.translate(str.maketrans('', '', string.punctuation))\n",
        "      # print(line)\n",
        "      input_texts.append(line)\n",
        "      labels.append(label)"
      ],
      "metadata": {
        "colab": {
          "base_uri": "https://localhost:8080/"
        },
        "collapsed": true,
        "id": "JXqqRu0QlTDP",
        "outputId": "f9c3cd46-3046-4e10-8606-3d76807dc38c"
      },
      "execution_count": 12,
      "outputs": [
        {
          "output_type": "stream",
          "name": "stdout",
          "text": [
            "edgar_allan_poe.txt corresponds to label 0\n",
            "robert_frost.txt corresponds to label 1\n"
          ]
        }
      ]
    },
    {
      "cell_type": "code",
      "source": [
        "input_texts[1:10], labels[1:10]"
      ],
      "metadata": {
        "colab": {
          "base_uri": "https://localhost:8080/"
        },
        "collapsed": true,
        "id": "t2DJJ2NDlTFn",
        "outputId": "dc7751b1-983b-413f-cb5d-9c62914e6747"
      },
      "execution_count": 14,
      "outputs": [
        {
          "output_type": "execute_result",
          "data": {
            "text/plain": [
              "(['in a strange city all alone',\n",
              "  'far down within the dim west',\n",
              "  'where the good and the bad and the worst and the best',\n",
              "  'have gone to their eternal rest',\n",
              "  'there shrines and palaces and towers',\n",
              "  'are not like any thing of ours',\n",
              "  'oh no o no ours never loom',\n",
              "  'to heaven with that ungodly gloom',\n",
              "  'timeeaten towers that tremble not'],\n",
              " [0, 0, 0, 0, 0, 0, 0, 0, 0])"
            ]
          },
          "metadata": {},
          "execution_count": 14
        }
      ]
    },
    {
      "cell_type": "code",
      "source": [
        "train_text, test_text, ytrain, ytest = train_test_split(input_texts, labels)"
      ],
      "metadata": {
        "id": "RLI_YCFMlTI2"
      },
      "execution_count": 15,
      "outputs": []
    },
    {
      "cell_type": "code",
      "source": [
        "len(ytrain), len(ytest)"
      ],
      "metadata": {
        "colab": {
          "base_uri": "https://localhost:8080/"
        },
        "id": "PR7sW0l0lTLH",
        "outputId": "8482227c-e956-4f0b-fb4a-22915f24e2e2"
      },
      "execution_count": 16,
      "outputs": [
        {
          "output_type": "execute_result",
          "data": {
            "text/plain": [
              "(1615, 539)"
            ]
          },
          "metadata": {},
          "execution_count": 16
        }
      ]
    },
    {
      "cell_type": "code",
      "source": [
        "train_text[:10], ytrain[:10]"
      ],
      "metadata": {
        "colab": {
          "base_uri": "https://localhost:8080/"
        },
        "id": "pzd6p0CqlTNs",
        "outputId": "ee2dfc90-83e2-40f0-8d78-82cdf4893ef7"
      },
      "execution_count": 17,
      "outputs": [
        {
          "output_type": "execute_result",
          "data": {
            "text/plain": [
              "(['of getting home again because',\n",
              "  'up from the tangle of withered weeds',\n",
              "  'the playthings in the playhouse of the children',\n",
              "  'among the raspberries and hew and shape it',\n",
              "  'while from the high towers of the town',\n",
              "  'and better defeat almost',\n",
              "  'though not yet light',\n",
              "  'i walked down alone sunday after church',\n",
              "  'ill show you how she had her sills extended',\n",
              "  'you never saw this room before a show'],\n",
              " [1, 1, 1, 1, 0, 1, 1, 1, 1, 1])"
            ]
          },
          "metadata": {},
          "execution_count": 17
        }
      ]
    },
    {
      "cell_type": "code",
      "source": [
        "# convert text to index for matrix\n",
        "idx =1 # act as a current index as we loop thoruhg matrix\n",
        "word2idx = {'<unk' : 0 }"
      ],
      "metadata": {
        "id": "pMl-Ji8HlTQS"
      },
      "execution_count": 18,
      "outputs": []
    },
    {
      "cell_type": "code",
      "source": [
        "# populate word2idx\n",
        "for text in train_text:\n",
        "  tokens = text.split()\n",
        "  for token in tokens:\n",
        "    if token not in word2idx:\n",
        "      word2idx[token] =idx\n",
        "      idx += 1"
      ],
      "metadata": {
        "id": "I0IGljvHlTTF"
      },
      "execution_count": 19,
      "outputs": []
    },
    {
      "cell_type": "code",
      "source": [
        "word2idx"
      ],
      "metadata": {
        "colab": {
          "base_uri": "https://localhost:8080/"
        },
        "id": "oW6Ki6Rdsg-6",
        "outputId": "24444e2e-1f09-4ece-db93-09a3ca41dc72"
      },
      "execution_count": 20,
      "outputs": [
        {
          "output_type": "execute_result",
          "data": {
            "text/plain": [
              "{'<unk': 0,\n",
              " 'of': 1,\n",
              " 'getting': 2,\n",
              " 'home': 3,\n",
              " 'again': 4,\n",
              " 'because': 5,\n",
              " 'up': 6,\n",
              " 'from': 7,\n",
              " 'the': 8,\n",
              " 'tangle': 9,\n",
              " 'withered': 10,\n",
              " 'weeds': 11,\n",
              " 'playthings': 12,\n",
              " 'in': 13,\n",
              " 'playhouse': 14,\n",
              " 'children': 15,\n",
              " 'among': 16,\n",
              " 'raspberries': 17,\n",
              " 'and': 18,\n",
              " 'hew': 19,\n",
              " 'shape': 20,\n",
              " 'it': 21,\n",
              " 'while': 22,\n",
              " 'high': 23,\n",
              " 'towers': 24,\n",
              " 'town': 25,\n",
              " 'better': 26,\n",
              " 'defeat': 27,\n",
              " 'almost': 28,\n",
              " 'though': 29,\n",
              " 'not': 30,\n",
              " 'yet': 31,\n",
              " 'light': 32,\n",
              " 'i': 33,\n",
              " 'walked': 34,\n",
              " 'down': 35,\n",
              " 'alone': 36,\n",
              " 'sunday': 37,\n",
              " 'after': 38,\n",
              " 'church': 39,\n",
              " 'ill': 40,\n",
              " 'show': 41,\n",
              " 'you': 42,\n",
              " 'how': 43,\n",
              " 'she': 44,\n",
              " 'had': 45,\n",
              " 'her': 46,\n",
              " 'sills': 47,\n",
              " 'extended': 48,\n",
              " 'never': 49,\n",
              " 'saw': 50,\n",
              " 'this': 51,\n",
              " 'room': 52,\n",
              " 'before': 53,\n",
              " 'a': 54,\n",
              " 'then': 55,\n",
              " 'make': 56,\n",
              " 'yourself': 57,\n",
              " 'at': 58,\n",
              " 'only': 59,\n",
              " 'field': 60,\n",
              " 'bill': 61,\n",
              " 'unthoughtlike': 62,\n",
              " 'thoughts': 63,\n",
              " 'that': 64,\n",
              " 'are': 65,\n",
              " 'souls': 66,\n",
              " 'thought': 67,\n",
              " 'pushed': 68,\n",
              " 'myself': 69,\n",
              " 'upstairs': 70,\n",
              " 'hadnt': 71,\n",
              " 'found': 72,\n",
              " 'fingerbone': 73,\n",
              " 'wanted': 74,\n",
              " 'well': 75,\n",
              " 'right': 76,\n",
              " 'here': 77,\n",
              " 'is': 78,\n",
              " 'where': 79,\n",
              " 'books': 80,\n",
              " 'hes': 81,\n",
              " 'fiftyfive': 82,\n",
              " 'know': 83,\n",
              " 'if': 84,\n",
              " 'day': 85,\n",
              " 'say': 86,\n",
              " 'for': 87,\n",
              " 'him': 88,\n",
              " 'johns': 89,\n",
              " 'no': 90,\n",
              " 'threatener': 91,\n",
              " 'every': 92,\n",
              " 'gentle': 93,\n",
              " 'air': 94,\n",
              " 'dallied': 95,\n",
              " 'below': 96,\n",
              " 'roared': 97,\n",
              " 'brook': 98,\n",
              " 'hidden': 99,\n",
              " 'trees': 100,\n",
              " 'as': 101,\n",
              " 'lavas': 102,\n",
              " 'restlessly': 103,\n",
              " 'roll': 104,\n",
              " 'full': 105,\n",
              " 'lank': 106,\n",
              " 'shivery': 107,\n",
              " 'halfdrowned': 108,\n",
              " 'birds': 109,\n",
              " 'look': 110,\n",
              " 'so': 111,\n",
              " 'sitting': 112,\n",
              " 'out': 113,\n",
              " 'rain': 114,\n",
              " 'tis': 115,\n",
              " 'said': 116,\n",
              " 'when': 117,\n",
              " 'perhaps': 118,\n",
              " 'have': 119,\n",
              " 'art': 120,\n",
              " 'what': 121,\n",
              " 'mean': 122,\n",
              " 'to': 123,\n",
              " 'sink': 124,\n",
              " 'under': 125,\n",
              " 'being': 126,\n",
              " 'man': 127,\n",
              " 'wife': 128,\n",
              " 'need': 129,\n",
              " 'be': 130,\n",
              " 'object': 131,\n",
              " 'hid': 132,\n",
              " 'crib': 133,\n",
              " 'he': 134,\n",
              " 'slept': 135,\n",
              " 'sures': 136,\n",
              " 'youre': 137,\n",
              " 'born': 138,\n",
              " 'mossy': 139,\n",
              " 'banks': 140,\n",
              " 'meandering': 141,\n",
              " 'paths': 142,\n",
              " 'thy': 143,\n",
              " 'heart': 144,\n",
              " 'wake': 145,\n",
              " 'sigh': 146,\n",
              " 'oh': 147,\n",
              " 'fly': 148,\n",
              " 'let': 149,\n",
              " 'us': 150,\n",
              " 'we': 151,\n",
              " 'must': 152,\n",
              " 'lo': 153,\n",
              " 'death': 154,\n",
              " 'hath': 155,\n",
              " 'reard': 156,\n",
              " 'himself': 157,\n",
              " 'throne': 158,\n",
              " 'why': 159,\n",
              " 'take': 160,\n",
              " 'two': 161,\n",
              " 'or': 162,\n",
              " 'three': 163,\n",
              " 'now': 164,\n",
              " 'night': 165,\n",
              " 'was': 166,\n",
              " 'senescent': 167,\n",
              " 'can': 168,\n",
              " 'just': 169,\n",
              " 'see': 170,\n",
              " 'my': 171,\n",
              " 'tent': 172,\n",
              " 'pegged': 173,\n",
              " 'who': 174,\n",
              " 'they': 175,\n",
              " 'world': 176,\n",
              " 'sweets': 177,\n",
              " 'sours': 178,\n",
              " 'kept': 179,\n",
              " 'first': 180,\n",
              " 'another': 181,\n",
              " 'upon': 182,\n",
              " 'upturned': 183,\n",
              " 'faces': 184,\n",
              " 'thousand': 185,\n",
              " 'stirred': 186,\n",
              " 'abysses': 187,\n",
              " 'his': 188,\n",
              " 'maintained': 189,\n",
              " 'power': 190,\n",
              " 'words': 191,\n",
              " 'denied': 192,\n",
              " 'ever': 193,\n",
              " 'eightyfive': 194,\n",
              " 'gone': 195,\n",
              " 'tell': 196,\n",
              " 'fear': 197,\n",
              " 'treading': 198,\n",
              " 'me': 199,\n",
              " 'think': 200,\n",
              " 'will': 201,\n",
              " 'do': 202,\n",
              " 'things': 203,\n",
              " 'smash': 204,\n",
              " 'new': 205,\n",
              " 'cottage': 206,\n",
              " 'on': 207,\n",
              " 'ancient': 208,\n",
              " 'spot': 209,\n",
              " 'than': 210,\n",
              " 'lifes': 211,\n",
              " 'victories': 212,\n",
              " 'doubt': 213,\n",
              " 'thinks': 214,\n",
              " 'its': 215,\n",
              " 'dark': 216,\n",
              " 'flooded': 217,\n",
              " 'with': 218,\n",
              " 'daylight': 219,\n",
              " 'into': 220,\n",
              " 'each': 221,\n",
              " 'other': 222,\n",
              " 'both': 223,\n",
              " 'them': 224,\n",
              " 'lost': 225,\n",
              " 'way': 226,\n",
              " 'did': 227,\n",
              " 'life': 228,\n",
              " 'once': 229,\n",
              " 'but': 230,\n",
              " 'time': 231,\n",
              " 'like': 232,\n",
              " 'harmodious': 233,\n",
              " 'gallant': 234,\n",
              " 'good': 235,\n",
              " 'travellers': 236,\n",
              " 'within': 237,\n",
              " 'valley': 238,\n",
              " 'left': 239,\n",
              " 'hopes': 240,\n",
              " 'since': 241,\n",
              " 'lifts': 242,\n",
              " 'gaunt': 243,\n",
              " 'luxuriating': 244,\n",
              " 'beast': 245,\n",
              " 'quietude': 246,\n",
              " 'sultriness': 247,\n",
              " 'slumber': 248,\n",
              " 'guess': 249,\n",
              " 'theyd': 250,\n",
              " 'drag': 251,\n",
              " 'through': 252,\n",
              " 'over': 253,\n",
              " 'much': 254,\n",
              " 'bay': 255,\n",
              " 'fell': 256,\n",
              " 'upturnd': 257,\n",
              " 'roses': 258,\n",
              " 'by': 259,\n",
              " 'door': 260,\n",
              " 'legended': 261,\n",
              " 'tomb': 262,\n",
              " 'son': 263,\n",
              " 'looks': 264,\n",
              " 'surprised': 265,\n",
              " 'end': 266,\n",
              " 'lie': 267,\n",
              " 'talkedof': 268,\n",
              " 'mystery': 269,\n",
              " 'birth': 270,\n",
              " 'o': 271,\n",
              " 'hyacinthine': 272,\n",
              " 'isle': 273,\n",
              " 'purple': 274,\n",
              " 'zante': 275,\n",
              " 'want': 276,\n",
              " 'fountain': 277,\n",
              " 'these': 278,\n",
              " 'suddenly': 279,\n",
              " 'without': 280,\n",
              " 'jerk': 281,\n",
              " 'twitch': 282,\n",
              " 'behind': 283,\n",
              " 'mountains': 284,\n",
              " 'mother': 285,\n",
              " 'agony': 286,\n",
              " 'sobbed': 287,\n",
              " 'letting': 288,\n",
              " 'celebrating': 289,\n",
              " 'something': 290,\n",
              " 'strange': 291,\n",
              " 'smith': 292,\n",
              " 'someone': 293,\n",
              " 'called': 294,\n",
              " 'off': 295,\n",
              " 'mountain': 296,\n",
              " 'pen': 297,\n",
              " 'falls': 298,\n",
              " 'powerless': 299,\n",
              " 'shivering': 300,\n",
              " 'hand': 301,\n",
              " 'thee': 302,\n",
              " 'laurels': 303,\n",
              " 'belong': 304,\n",
              " 'bluebells': 305,\n",
              " 'gracing': 306,\n",
              " 'tunnel': 307,\n",
              " 'mouth': 308,\n",
              " 'lonesome': 309,\n",
              " 'october': 310,\n",
              " 'dead': 311,\n",
              " 'asked': 312,\n",
              " 'against': 313,\n",
              " 'attic': 314,\n",
              " 'nailed': 315,\n",
              " 'leaves': 316,\n",
              " 'were': 317,\n",
              " 'crisped': 318,\n",
              " 'sere': 319,\n",
              " 'set': 320,\n",
              " 'briskly': 321,\n",
              " 'slow': 322,\n",
              " 'thing': 323,\n",
              " 'content': 324,\n",
              " 'budinspecting': 325,\n",
              " 'presume': 326,\n",
              " 'couldnt': 327,\n",
              " 'been': 328,\n",
              " 'one': 329,\n",
              " 'transforming': 330,\n",
              " 'all': 331,\n",
              " 'charms': 332,\n",
              " 'shall': 333,\n",
              " 'please': 334,\n",
              " 'more': 335,\n",
              " 'yes': 336,\n",
              " 'should': 337,\n",
              " 'married': 338,\n",
              " 'tone': 339,\n",
              " 'spirit': 340,\n",
              " 'which': 341,\n",
              " 'striven': 342,\n",
              " 'voices': 343,\n",
              " 'rapid': 344,\n",
              " 'ghastly': 345,\n",
              " 'river': 346,\n",
              " 'fever': 347,\n",
              " 'moonbeam': 348,\n",
              " 'hangs': 349,\n",
              " 'oer': 350,\n",
              " 'struck': 351,\n",
              " 'brittle': 352,\n",
              " 'floor': 353,\n",
              " 'ghoulhaunted': 354,\n",
              " 'woodland': 355,\n",
              " 'weir': 356,\n",
              " 'whose': 357,\n",
              " 'shoes': 358,\n",
              " 'primped': 359,\n",
              " 'dance': 360,\n",
              " 'joined': 361,\n",
              " 'excited': 362,\n",
              " 'fun': 363,\n",
              " 'hed': 364,\n",
              " 'bet': 365,\n",
              " 'huse': 366,\n",
              " 'cribber': 367,\n",
              " 'gnawed': 368,\n",
              " 'great': 369,\n",
              " 'monolithic': 370,\n",
              " 'knees': 371,\n",
              " 'former': 372,\n",
              " 'minute': 373,\n",
              " 'heard': 374,\n",
              " 'step': 375,\n",
              " 'went': 376,\n",
              " 'still': 377,\n",
              " 'id': 378,\n",
              " 'name': 379,\n",
              " 'names': 380,\n",
              " 'box': 381,\n",
              " 'put': 382,\n",
              " 'away': 383,\n",
              " 'hear': 384,\n",
              " 'some': 385,\n",
              " 'word': 386,\n",
              " 'about': 387,\n",
              " 'weather': 388,\n",
              " 'could': 389,\n",
              " 'turn': 390,\n",
              " 'round': 391,\n",
              " 'got': 392,\n",
              " 'saying': 393,\n",
              " 'grace': 394,\n",
              " 'guide': 395,\n",
              " 'thine': 396,\n",
              " 'changed': 397,\n",
              " 'mind': 398,\n",
              " 'garlands': 399,\n",
              " 'rode': 400,\n",
              " 'everything': 401,\n",
              " 'nights': 402,\n",
              " 'year': 403,\n",
              " 'saturn': 404,\n",
              " 'mars': 405,\n",
              " 'beauty': 406,\n",
              " 'many': 407,\n",
              " 'seen': 408,\n",
              " 'fire': 409,\n",
              " 'an': 410,\n",
              " 'old': 411,\n",
              " 'cedar': 412,\n",
              " 'waterside': 413,\n",
              " 'times': 414,\n",
              " 'rule': 415,\n",
              " 'arm': 416,\n",
              " 'bless': 417,\n",
              " 'expense': 418,\n",
              " 'reach': 419,\n",
              " 'watch': 420,\n",
              " 'came': 421,\n",
              " 'get': 422,\n",
              " 'fence': 423,\n",
              " 'our': 424,\n",
              " 'flowers': 425,\n",
              " 'hens': 426,\n",
              " 'range': 427,\n",
              " 'your': 428,\n",
              " 'going': 429,\n",
              " 'softmurmured': 430,\n",
              " 'there': 431,\n",
              " 'havent': 432,\n",
              " 'estelle': 433,\n",
              " 'has': 434,\n",
              " 'always': 435,\n",
              " 'held': 436,\n",
              " 'purse': 437,\n",
              " 'toffile': 438,\n",
              " 'agreed': 439,\n",
              " 'sure': 440,\n",
              " 'enough': 441,\n",
              " 'steeple': 442,\n",
              " 'fulllength': 443,\n",
              " 'chimney': 444,\n",
              " 'save': 445,\n",
              " 'paused': 446,\n",
              " 'looked': 447,\n",
              " 'anything': 448,\n",
              " 'may': 449,\n",
              " 'warn': 450,\n",
              " 'level': 451,\n",
              " 'waves': 452,\n",
              " 'wrought': 453,\n",
              " 'around': 454,\n",
              " 'rare': 455,\n",
              " 'blow': 456,\n",
              " 'often': 457,\n",
              " 'forget': 458,\n",
              " 'lone': 459,\n",
              " 'wonted': 460,\n",
              " 'besides': 461,\n",
              " 'sleep': 462,\n",
              " 'dream': 463,\n",
              " 'till': 464,\n",
              " 'country': 465,\n",
              " 'thrones': 466,\n",
              " 'longforgotten': 467,\n",
              " 'bowers': 468,\n",
              " 'sell': 469,\n",
              " 'place': 470,\n",
              " 'cant': 471,\n",
              " 'swellings': 472,\n",
              " 'hint': 473,\n",
              " 'winds': 474,\n",
              " 'alas': 475,\n",
              " 'cannot': 476,\n",
              " 'feel': 477,\n",
              " 'feeling': 478,\n",
              " 'aright': 479,\n",
              " 'shes': 480,\n",
              " 'else': 481,\n",
              " 'surer': 482,\n",
              " 'witch': 483,\n",
              " 'wheres': 484,\n",
              " 'john': 485,\n",
              " 'meddle': 486,\n",
              " 'fate': 487,\n",
              " 'belilaced': 488,\n",
              " 'cellar': 489,\n",
              " 'hole': 490,\n",
              " 'morn': 491,\n",
              " 'noon': 492,\n",
              " 'twilight': 493,\n",
              " 'dim': 494,\n",
              " 'ultimate': 495,\n",
              " 'climes': 496,\n",
              " 'pole': 497,\n",
              " 'cypress': 498,\n",
              " 'roamed': 499,\n",
              " 'soul': 500,\n",
              " 'today': 501,\n",
              " 'overflowing': 502,\n",
              " 'horn': 503,\n",
              " 'plenty': 504,\n",
              " 'checked': 505,\n",
              " 'pace': 506,\n",
              " 'endless': 507,\n",
              " 'talktalk': 508,\n",
              " 'unearthed': 509,\n",
              " 'potatoes': 510,\n",
              " 'standing': 511,\n",
              " 'sorrowfully': 512,\n",
              " 'trailed': 513,\n",
              " 'dust': 514,\n",
              " 'outstretched': 515,\n",
              " 'tears': 516,\n",
              " 'dry': 517,\n",
              " 'nonsense': 518,\n",
              " 'whats': 519,\n",
              " 'done': 520,\n",
              " 'acquainted': 521,\n",
              " 'plumes': 522,\n",
              " 'palsied': 523,\n",
              " 'years': 524,\n",
              " 'sometimes': 525,\n",
              " 'wander': 526,\n",
              " 'beaten': 527,\n",
              " 'ways': 528,\n",
              " 'lets': 529,\n",
              " 'trap': 530,\n",
              " 'open': 531,\n",
              " 'wont': 532,\n",
              " 'come': 533,\n",
              " 'back': 534,\n",
              " 'worse': 535,\n",
              " 'zealous': 536,\n",
              " 'ones': 537,\n",
              " 'laborious': 538,\n",
              " 'device': 539,\n",
              " 'im': 540,\n",
              " 'dank': 541,\n",
              " 'tarn': 542,\n",
              " 'auber': 543,\n",
              " 'picking': 544,\n",
              " 'faded': 545,\n",
              " 'blue': 546,\n",
              " 'fervid': 547,\n",
              " 'flickering': 548,\n",
              " 'torch': 549,\n",
              " 'lit': 550,\n",
              " 'stardials': 551,\n",
              " 'pointed': 552,\n",
              " 'instant': 553,\n",
              " 'disappeared': 554,\n",
              " 'dont': 555,\n",
              " 'lot': 556,\n",
              " 'matter': 557,\n",
              " 'unhouse': 558,\n",
              " 'their': 559,\n",
              " 'merry': 560,\n",
              " 'little': 561,\n",
              " 'throats': 562,\n",
              " 'milk': 563,\n",
              " 'bat': 564,\n",
              " 'merely': 565,\n",
              " 'real': 566,\n",
              " 'trouble': 567,\n",
              " 'satisfy': 568,\n",
              " 'amid': 569,\n",
              " 'earthly': 570,\n",
              " 'moans': 571,\n",
              " 'earnest': 572,\n",
              " 'appears': 573,\n",
              " 'reply': 574,\n",
              " 'hers': 575,\n",
              " 'intelligence': 576,\n",
              " 'eden': 577,\n",
              " 'oclock': 578,\n",
              " 'sacred': 579,\n",
              " 'sun': 580,\n",
              " 'weeping': 581,\n",
              " 'whom': 582,\n",
              " 'talk': 583,\n",
              " 'timeeaten': 584,\n",
              " 'tremble': 585,\n",
              " 'coming': 586,\n",
              " 'wouldnt': 587,\n",
              " 'hurt': 588,\n",
              " 'hen': 589,\n",
              " 'ought': 590,\n",
              " 'bland': 591,\n",
              " 'repose': 592,\n",
              " 'difference': 593,\n",
              " 'mans': 594,\n",
              " 'affairs': 595,\n",
              " 'accept': 596,\n",
              " 'substitute': 597,\n",
              " 'empty': 598,\n",
              " 'fulfilled': 599,\n",
              " 'path': 600,\n",
              " 'liquescent': 601,\n",
              " 'seem': 602,\n",
              " 'given': 603,\n",
              " 'bad': 604,\n",
              " 'brought': 605,\n",
              " 'publisher': 606,\n",
              " 'told': 607,\n",
              " 'easy': 608,\n",
              " 'wind': 609,\n",
              " 'downy': 610,\n",
              " 'flake': 611,\n",
              " 'terror': 612,\n",
              " 'spoke': 613,\n",
              " 'made': 614,\n",
              " 'shift': 615,\n",
              " 'shelter': 616,\n",
              " 'help': 617,\n",
              " 'office': 618,\n",
              " 'illumine': 619,\n",
              " 'enkindle': 620,\n",
              " 'youthful': 621,\n",
              " 'forms': 622,\n",
              " 'crosslegged': 623,\n",
              " 'early': 624,\n",
              " 'mormons': 625,\n",
              " 'settlement': 626,\n",
              " 'drawn': 627,\n",
              " 'hearts': 628,\n",
              " 'passion': 629,\n",
              " 'glass': 630,\n",
              " 'case': 631,\n",
              " 'adding': 632,\n",
              " 'frost': 633,\n",
              " 'snow': 634,\n",
              " 'loved': 635,\n",
              " 'tear': 636,\n",
              " 'lid': 637,\n",
              " 'window': 638,\n",
              " 'black': 639,\n",
              " 'dew': 640,\n",
              " 'summer': 641,\n",
              " 'grass': 642,\n",
              " 'stay': 643,\n",
              " 'serenest': 644,\n",
              " 'skies': 645,\n",
              " 'continually': 646,\n",
              " 'sweet': 647,\n",
              " 'dreams': 648,\n",
              " 'desperate': 649,\n",
              " 'energy': 650,\n",
              " 't': 651,\n",
              " 'nothing': 652,\n",
              " 'listen': 653,\n",
              " 'lean': 654,\n",
              " 'whatever': 655,\n",
              " 'cost': 656,\n",
              " 'apiece': 657,\n",
              " 'pound': 658,\n",
              " 'cried': 659,\n",
              " 'surely': 660,\n",
              " 'worlds': 661,\n",
              " 'beneath': 662,\n",
              " 'tamarind': 663,\n",
              " 'tree': 664,\n",
              " 'news': 665,\n",
              " 'carry—if': 666,\n",
              " 'houses': 667,\n",
              " 'street': 668,\n",
              " 'height': 669,\n",
              " 'adventure': 670,\n",
              " 'reverence': 671,\n",
              " 'lethean': 672,\n",
              " 'peace': 673,\n",
              " 'impulse': 674,\n",
              " 'knob': 675,\n",
              " 'built': 676,\n",
              " 'stone': 677,\n",
              " 'baptismal': 678,\n",
              " 'font': 679,\n",
              " 'outdoors': 680,\n",
              " 'raining': 681,\n",
              " 'revels': 682,\n",
              " 'region': 683,\n",
              " 'sighs': 684,\n",
              " 'deep': 685,\n",
              " 'hope': 686,\n",
              " 'died': 687,\n",
              " 'daring': 688,\n",
              " 'ambition': 689,\n",
              " 'solemn': 690,\n",
              " 'peals': 691,\n",
              " 'miles': 692,\n",
              " 'abode': 693,\n",
              " 'would': 694,\n",
              " 'go': 695,\n",
              " 'passed': 696,\n",
              " 'i—': 697,\n",
              " 'explain': 698,\n",
              " 'any': 699,\n",
              " 'four': 700,\n",
              " 'posts': 701,\n",
              " 'bed': 702,\n",
              " 'winter': 703,\n",
              " 'garden': 704,\n",
              " 'alder': 705,\n",
              " 'swamp': 706,\n",
              " 'twas': 707,\n",
              " 'warrant': 708,\n",
              " 'does': 709,\n",
              " 'god': 710,\n",
              " 'funereal': 711,\n",
              " 'find': 712,\n",
              " 'desolately': 713,\n",
              " 'fall': 714,\n",
              " 'choked': 715,\n",
              " 'oil': 716,\n",
              " 'follow': 717,\n",
              " 'lead': 718,\n",
              " 'hasten': 719,\n",
              " 'linger': 720,\n",
              " 'best': 721,\n",
              " 'bard': 722,\n",
              " 'wisest': 723,\n",
              " 'hideous': 724,\n",
              " 'throng': 725,\n",
              " 'rush': 726,\n",
              " 'forever': 727,\n",
              " 'wasnt': 728,\n",
              " 'hudsons': 729,\n",
              " 'strength': 730,\n",
              " 'subdued': 731,\n",
              " 'call': 732,\n",
              " 'nausicaa': 733,\n",
              " 'timber': 734,\n",
              " 'reeled': 735,\n",
              " 'lurched': 736,\n",
              " 'bobbed': 737,\n",
              " 'wouldst': 738,\n",
              " 'leave': 739,\n",
              " 'wandering': 740,\n",
              " 'seven': 741,\n",
              " 'knew': 742,\n",
              " 'month': 743,\n",
              " 'wire': 744,\n",
              " 'men': 745,\n",
              " 'grave': 746,\n",
              " 'hour': 747,\n",
              " 'merrily': 748,\n",
              " 'live': 749,\n",
              " 'long': 750,\n",
              " 'far': 751,\n",
              " 'forth': 752,\n",
              " 'feet': 753,\n",
              " 'strung': 754,\n",
              " 'hair': 755,\n",
              " 'pit': 756,\n",
              " 'starks': 757,\n",
              " 'digged': 758,\n",
              " 'clasps': 759,\n",
              " 'laughed': 760,\n",
              " 'together': 761,\n",
              " 'thou': 762,\n",
              " 'woe': 763,\n",
              " 'sublime': 764,\n",
              " 'turned': 765,\n",
              " 'try': 766,\n",
              " 'fathom': 767,\n",
              " 'ask': 768,\n",
              " 'therefore': 769,\n",
              " 'wrong': 770,\n",
              " 'realms': 771,\n",
              " 'boreal': 772,\n",
              " 'small': 773,\n",
              " 'growing': 774,\n",
              " 'wild': 775,\n",
              " 'fancied': 776,\n",
              " 'six': 777,\n",
              " 'moisture': 778,\n",
              " 'color': 779,\n",
              " 'odor': 780,\n",
              " 'thicken': 781,\n",
              " 'cottages': 782,\n",
              " 'build': 783,\n",
              " 'shelf': 784,\n",
              " 'skiff': 785,\n",
              " 'hands': 786,\n",
              " 'sweetly': 787,\n",
              " 'scintillant': 788,\n",
              " 'especially': 789,\n",
              " 'weak': 790,\n",
              " 'lines': 791,\n",
              " 'written': 792,\n",
              " 'awake': 793,\n",
              " 'symbol': 794,\n",
              " 'token': 795,\n",
              " 'mad': 796,\n",
              " 'secret': 797,\n",
              " 'communing': 798,\n",
              " 'kick': 799,\n",
              " 'legs': 800,\n",
              " 'army': 801,\n",
              " 'mule': 802,\n",
              " 'quarrel': 803,\n",
              " 'property': 804,\n",
              " 'song': 805,\n",
              " 'colonial': 806,\n",
              " 'boy': 807,\n",
              " 'blend': 808,\n",
              " 'turrets': 809,\n",
              " 'shadows': 810,\n",
              " 'thrilling': 811,\n",
              " 'joy': 812,\n",
              " 'wo': 813,\n",
              " 'salt': 814,\n",
              " 'wherewith': 815,\n",
              " 'theyre': 816,\n",
              " 'salted': 817,\n",
              " 'sound': 818,\n",
              " 'violin': 819,\n",
              " 'uncommonly': 820,\n",
              " 'bones': 821,\n",
              " 'barn': 822,\n",
              " 'smells': 823,\n",
              " 'wash': 824,\n",
              " 'ploughed': 825,\n",
              " 'ground': 826,\n",
              " 'horse': 827,\n",
              " 'queer': 828,\n",
              " 'doubts': 829,\n",
              " 'youd': 830,\n",
              " 'tempt': 831,\n",
              " 'such': 832,\n",
              " 'used': 833,\n",
              " 'sing': 834,\n",
              " 'along': 835,\n",
              " 'toteroad': 836,\n",
              " 'wonderful': 837,\n",
              " 'plan': 838,\n",
              " 'danger': 839,\n",
              " 'loss': 840,\n",
              " 'care': 841,\n",
              " 'very': 842,\n",
              " 'mustnt': 843,\n",
              " 'headboard': 844,\n",
              " 'wants': 845,\n",
              " 'isnt': 846,\n",
              " 'beside': 847,\n",
              " 'wall': 848,\n",
              " 'stands': 849,\n",
              " 'bare': 850,\n",
              " 'thats': 851,\n",
              " 'sit': 852,\n",
              " 'gazing': 853,\n",
              " 'entranced': 854,\n",
              " 'adown': 855,\n",
              " 'gorgeous': 856,\n",
              " 'vista': 857,\n",
              " 'stopped': 858,\n",
              " 'safely': 859,\n",
              " 'trust': 860,\n",
              " 'gleaming': 861,\n",
              " 'miraculous': 862,\n",
              " 'crescent': 863,\n",
              " 'entablatures': 864,\n",
              " 'intertwine': 865,\n",
              " 'arose': 866,\n",
              " 'duplicate': 867,\n",
              " 'bells': 868,\n",
              " 'ah': 869,\n",
              " 'grassy': 870,\n",
              " 'wear': 871,\n",
              " 'lifelike': 872,\n",
              " 'posture': 873,\n",
              " 'swarm': 874,\n",
              " 'wonder': 875,\n",
              " 'makebelieve': 876,\n",
              " 'didnt': 877,\n",
              " 'relish': 878,\n",
              " 'sort': 879,\n",
              " 'unprotected': 880,\n",
              " 'tower': 881,\n",
              " 'clock': 882,\n",
              " 'too': 883,\n",
              " 'makes': 884,\n",
              " 'clara': 885,\n",
              " 'robinson': 886,\n",
              " 'answering': 887,\n",
              " 'knock': 888,\n",
              " 'lord': 889,\n",
              " 'everyone': 890,\n",
              " 'silently': 891,\n",
              " 'serene': 892,\n",
              " 'sea': 893,\n",
              " 'pride': 894,\n",
              " 'house': 895,\n",
              " 'gigantically': 896,\n",
              " 'meaning': 897,\n",
              " 'israfel': 898,\n",
              " 'anyone': 899,\n",
              " 'idleness': 900,\n",
              " 'describing': 901,\n",
              " 'rings': 902,\n",
              " 'lantern': 903,\n",
              " 'stark': 904,\n",
              " 'inquired': 905,\n",
              " 'proof': 906,\n",
              " 'west': 907,\n",
              " 'either': 908,\n",
              " 'looking': 909,\n",
              " 'finding': 910,\n",
              " 'cross': 911,\n",
              " 'lots': 912,\n",
              " 'walls': 913,\n",
              " 'replied': 914,\n",
              " 'ulalume': 915,\n",
              " 'living': 916,\n",
              " 'halfway': 917,\n",
              " 'fought': 918,\n",
              " 'battle': 919,\n",
              " 'deeptoned': 920,\n",
              " 'unembodied': 921,\n",
              " 'essence': 922,\n",
              " 'speel': 923,\n",
              " 'single': 924,\n",
              " 'lizard': 925,\n",
              " 'theyve': 926,\n",
              " 'settled': 927,\n",
              " 'prove': 928,\n",
              " 'carried': 929,\n",
              " 'itself': 930,\n",
              " 'pile': 931,\n",
              " 'dishes': 932,\n",
              " 'nation': 933,\n",
              " 'gold': 934,\n",
              " 'rattle': 935,\n",
              " 'ago': 936,\n",
              " 'tutelar': 937,\n",
              " 'shrine': 938,\n",
              " 'plain': 939,\n",
              " 'statement': 940,\n",
              " 'relationship': 941,\n",
              " 'swept': 942,\n",
              " 'heavens': 943,\n",
              " 'turning': 944,\n",
              " 'heel': 945,\n",
              " 'aint': 946,\n",
              " 'quite': 947,\n",
              " 'hinted': 948,\n",
              " 'situation': 949,\n",
              " 'road': 950,\n",
              " 'halted': 951,\n",
              " 'helpless': 952,\n",
              " 'landing': 953,\n",
              " 'halfpast': 954,\n",
              " 'science': 955,\n",
              " 'true': 956,\n",
              " 'daughter': 957,\n",
              " 'ashen': 958,\n",
              " 'sober': 959,\n",
              " 'spell': 960,\n",
              " 'hold': 961,\n",
              " 'silver': 962,\n",
              " 'last': 963,\n",
              " 'welcomed': 964,\n",
              " 'chance': 965,\n",
              " 'lave': 966,\n",
              " 'bedroom': 967,\n",
              " 'tongue': 968,\n",
              " 'truth': 969,\n",
              " 'virtue': 970,\n",
              " 'humanity': 971,\n",
              " 'darkest': 972,\n",
              " 'evening': 973,\n",
              " 'doesnt': 974,\n",
              " 'ive': 975,\n",
              " 'heaven': 976,\n",
              " 'gives': 977,\n",
              " 'glimpses': 978,\n",
              " 'those': 979,\n",
              " 'past': 980,\n",
              " 'stars': 981,\n",
              " 'lion': 982,\n",
              " 'barkless': 983,\n",
              " 'spectre': 984,\n",
              " 'evil': 985,\n",
              " 'robes': 986,\n",
              " 'sorrow': 987,\n",
              " 'alias': 988,\n",
              " 'folk': 989,\n",
              " 'afraid': 990,\n",
              " 'love': 991,\n",
              " 'deem': 992,\n",
              " 'wise': 993,\n",
              " 'wait': 994,\n",
              " 'until': 995,\n",
              " 'give': 996,\n",
              " 'woods': 997,\n",
              " 'lovely': 998,\n",
              " 'vulture': 999,\n",
              " ...}"
            ]
          },
          "metadata": {},
          "execution_count": 20
        }
      ]
    },
    {
      "cell_type": "code",
      "source": [
        "len(word2idx)"
      ],
      "metadata": {
        "colab": {
          "base_uri": "https://localhost:8080/"
        },
        "id": "ZhlixJ9TsjJo",
        "outputId": "e04421cb-7739-4beb-8a8e-7635c9c64699"
      },
      "execution_count": 21,
      "outputs": [
        {
          "output_type": "execute_result",
          "data": {
            "text/plain": [
              "2512"
            ]
          },
          "metadata": {},
          "execution_count": 21
        }
      ]
    },
    {
      "cell_type": "code",
      "source": [
        "# convert data into integer format\n",
        "train_text_int =[]\n",
        "test_text_int =[]\n",
        "\n",
        "for text in train_text:\n",
        "  tokens = text.split()\n",
        "  line_as_int = [word2idx[token] for token in tokens]\n",
        "  train_text_int.append(line_as_int)\n",
        "\n",
        "\n",
        "for text in test_text:\n",
        "  tokens = text.split()\n",
        "  line_as_int = [word2idx.get(token,0) for token in tokens]\n",
        "  test_text_int.append(line_as_int)\n"
      ],
      "metadata": {
        "id": "IpgD4rpIsohn"
      },
      "execution_count": 22,
      "outputs": []
    },
    {
      "cell_type": "code",
      "source": [
        "train_text_int[:5]"
      ],
      "metadata": {
        "colab": {
          "base_uri": "https://localhost:8080/"
        },
        "id": "DZCOINzPs5Ab",
        "outputId": "54dd5261-dea8-4e85-830c-b95eacd060c5"
      },
      "execution_count": 23,
      "outputs": [
        {
          "output_type": "execute_result",
          "data": {
            "text/plain": [
              "[[1, 2, 3, 4, 5],\n",
              " [6, 7, 8, 9, 1, 10, 11],\n",
              " [8, 12, 13, 8, 14, 1, 8, 15],\n",
              " [16, 8, 17, 18, 19, 18, 20, 21],\n",
              " [22, 7, 8, 23, 24, 1, 8, 25]]"
            ]
          },
          "metadata": {},
          "execution_count": 23
        }
      ]
    },
    {
      "cell_type": "code",
      "source": [
        "test_text_int[:5]"
      ],
      "metadata": {
        "colab": {
          "base_uri": "https://localhost:8080/"
        },
        "id": "SMjBBUUEs4-D",
        "outputId": "6aaddcac-48f5-4274-ca17-cdb7d63dffb1"
      },
      "execution_count": 24,
      "outputs": [
        {
          "output_type": "execute_result",
          "data": {
            "text/plain": [
              "[[75, 449, 8, 981, 130, 0],\n",
              " [33, 1292, 8, 329, 2449, 0, 259],\n",
              " [30, 0, 916, 207, 0, 18, 0],\n",
              " [8, 1259, 989, 436, 385, 686, 113, 123, 221, 222],\n",
              " [90, 335, 475, 64, 0, 1870, 818]]"
            ]
          },
          "metadata": {},
          "execution_count": 24
        }
      ]
    },
    {
      "cell_type": "code",
      "source": [
        "# initilaize A and pi matrices -  for both classes\n",
        "import numpy as np\n",
        "V = len(word2idx) # vocalblury size\n",
        "\n",
        "A0 = np.ones((V,V))\n",
        "pi0= np.ones(V)\n",
        "\n",
        "\n",
        "A1 = np.ones((V,V))\n",
        "pi1= np.ones(V)"
      ],
      "metadata": {
        "id": "iZI_ZYcos47W"
      },
      "execution_count": 26,
      "outputs": []
    },
    {
      "cell_type": "code",
      "source": [
        "# compute counts for A and pi\n",
        "def compute_counts(text_as_int, A, pi):\n",
        "\n",
        "  for tokens in text_as_int:\n",
        "    last_idx = None\n",
        "    for idx in tokens:\n",
        "      if last_idx is None:\n",
        "        # it's the first word in a sentence\n",
        "        pi[idx] += 1\n",
        "      else:\n",
        "        # the last word exists, so count a transition\n",
        "        A[last_idx, idx] += 1\n",
        "\n",
        "      # update last idx\n",
        "      last_idx = idx\n",
        "\n",
        "\n",
        "compute_counts([ t for t,y in zip(train_text_int, ytrain) if y==0], A0, pi0 )\n",
        "compute_counts([ t for t,y in zip(train_text_int, ytrain) if y==1], A1, pi1 )"
      ],
      "metadata": {
        "id": "yKdntAhrs44w"
      },
      "execution_count": 27,
      "outputs": []
    },
    {
      "cell_type": "code",
      "source": [
        "A0"
      ],
      "metadata": {
        "colab": {
          "base_uri": "https://localhost:8080/"
        },
        "id": "YVBsgXw5s42F",
        "outputId": "e4b06b2b-f598-43e4-e3a2-2b7369f87292"
      },
      "execution_count": 28,
      "outputs": [
        {
          "output_type": "execute_result",
          "data": {
            "text/plain": [
              "array([[1., 1., 1., ..., 1., 1., 1.],\n",
              "       [1., 1., 1., ..., 1., 1., 1.],\n",
              "       [1., 1., 1., ..., 1., 1., 1.],\n",
              "       ...,\n",
              "       [1., 1., 1., ..., 1., 1., 1.],\n",
              "       [1., 1., 1., ..., 1., 1., 1.],\n",
              "       [1., 1., 1., ..., 1., 1., 1.]])"
            ]
          },
          "metadata": {},
          "execution_count": 28
        }
      ]
    },
    {
      "cell_type": "code",
      "source": [
        "A1"
      ],
      "metadata": {
        "colab": {
          "base_uri": "https://localhost:8080/"
        },
        "id": "PLSwf4EEs4zY",
        "outputId": "37c34f59-581b-4eea-98bf-8850e1bdb313"
      },
      "execution_count": 29,
      "outputs": [
        {
          "output_type": "execute_result",
          "data": {
            "text/plain": [
              "array([[1., 1., 1., ..., 1., 1., 1.],\n",
              "       [1., 1., 2., ..., 1., 1., 1.],\n",
              "       [1., 1., 1., ..., 1., 1., 1.],\n",
              "       ...,\n",
              "       [1., 1., 1., ..., 1., 1., 1.],\n",
              "       [1., 1., 1., ..., 1., 1., 1.],\n",
              "       [1., 1., 1., ..., 1., 1., 1.]])"
            ]
          },
          "metadata": {},
          "execution_count": 29
        }
      ]
    },
    {
      "cell_type": "code",
      "source": [
        "# normalize A and pi so they are valid probability matrices\n",
        "A0 /= A0.sum(axis=1, keepdims=True)\n",
        "pi0 /= pi0.sum()\n",
        "\n",
        "A1 /= A1.sum(axis=1, keepdims=True)\n",
        "pi1 /= pi1.sum()"
      ],
      "metadata": {
        "id": "DEeOQ5HXs4we"
      },
      "execution_count": 30,
      "outputs": []
    },
    {
      "cell_type": "code",
      "source": [
        "# log A and pi since we don't need the actual probs\n",
        "logA0 = np.log(A0)\n",
        "logpi0 = np.log(pi0)\n",
        "\n",
        "logA1 = np.log(A1)\n",
        "logpi1 = np.log(pi1)"
      ],
      "metadata": {
        "id": "mNA-GOi9vvcI"
      },
      "execution_count": 31,
      "outputs": []
    },
    {
      "cell_type": "code",
      "source": [
        "# compute priors\n",
        "count0 = sum(y == 0 for y in ytrain) #samples belongs to class 0\n",
        "count1 = sum(y == 1 for y in ytrain) #samples belongs to class 1\n",
        "total = len(ytrain)\n",
        "#  compute priror probablites p0 & p1\n",
        "p0 = count0 / total\n",
        "p1 = count1 / total\n",
        "logp0 = np.log(p0)\n",
        "logp1 = np.log(p1)\n",
        "p0, p1"
      ],
      "metadata": {
        "colab": {
          "base_uri": "https://localhost:8080/"
        },
        "id": "4ftcWaUyvz0j",
        "outputId": "31372a5e-1a97-46c0-86da-53afad5febe8"
      },
      "execution_count": 34,
      "outputs": [
        {
          "output_type": "execute_result",
          "data": {
            "text/plain": [
              "(0.32941176470588235, 0.6705882352941176)"
            ]
          },
          "metadata": {},
          "execution_count": 34
        }
      ]
    },
    {
      "cell_type": "code",
      "source": [
        "# build a classifier\n",
        "class Classifier:\n",
        "  def __init__(self, logAs, logpis, logpriors):\n",
        "    self.logAs = logAs\n",
        "    self.logpis = logpis\n",
        "    self.logpriors = logpriors\n",
        "    self.K = len(logpriors) # number of classes\n",
        "\n",
        "  def _compute_log_likelihood(self, input_, class_):\n",
        "    logA = self.logAs[class_]\n",
        "    logpi = self.logpis[class_]\n",
        "\n",
        "    last_idx = None\n",
        "    logprob = 0\n",
        "    for idx in input_:\n",
        "      if last_idx is None:\n",
        "        # it's the first token\n",
        "        logprob += logpi[idx]\n",
        "      else:\n",
        "        logprob += logA[last_idx, idx]\n",
        "\n",
        "      # update last_idx\n",
        "      last_idx = idx\n",
        "\n",
        "    return logprob\n",
        "\n",
        "  def predict(self, inputs):\n",
        "    predictions = np.zeros(len(inputs))\n",
        "    for i, input_ in enumerate(inputs):\n",
        "      posteriors = [self._compute_log_likelihood(input_, c) + self.logpriors[c] \\\n",
        "             for c in range(self.K)]\n",
        "      pred = np.argmax(posteriors)\n",
        "      predictions[i] = pred\n",
        "    return predictions"
      ],
      "metadata": {
        "id": "TsPrAeAMv3VO"
      },
      "execution_count": 35,
      "outputs": []
    },
    {
      "cell_type": "code",
      "source": [
        "# each array must be in order since classes are assumed to index these lists\n",
        "clf = Classifier([logA0, logA1], [logpi0, logpi1], [logp0, logp1])"
      ],
      "metadata": {
        "id": "OCTY0KBixb0B"
      },
      "execution_count": 36,
      "outputs": []
    },
    {
      "cell_type": "code",
      "source": [
        "Ptrain = clf.predict(train_text_int)\n",
        "print(f\"Train acc: {np.mean(Ptrain == ytrain)}\")"
      ],
      "metadata": {
        "colab": {
          "base_uri": "https://localhost:8080/"
        },
        "id": "VdofY8JfxjB3",
        "outputId": "6b150fe6-aeb0-4be6-ce89-8d16bc3faedd"
      },
      "execution_count": 38,
      "outputs": [
        {
          "output_type": "stream",
          "name": "stdout",
          "text": [
            "Train acc: 0.9944272445820433\n"
          ]
        }
      ]
    },
    {
      "cell_type": "code",
      "source": [
        "Ptest = clf.predict(test_text_int)\n",
        "print(f\"Test acc: {np.mean(Ptest == ytest)}\")"
      ],
      "metadata": {
        "colab": {
          "base_uri": "https://localhost:8080/"
        },
        "id": "YLGkUZ9WxlaJ",
        "outputId": "770e4a04-bb46-4e2c-98db-d684eb37fed4"
      },
      "execution_count": 41,
      "outputs": [
        {
          "output_type": "stream",
          "name": "stdout",
          "text": [
            "Test acc: 0.8181818181818182\n"
          ]
        }
      ]
    },
    {
      "cell_type": "code",
      "source": [
        "from sklearn.metrics import confusion_matrix, f1_score\n",
        "\n",
        "cm_train = confusion_matrix(ytrain, Ptrain)\n",
        "cm_train"
      ],
      "metadata": {
        "colab": {
          "base_uri": "https://localhost:8080/"
        },
        "id": "HUmKLP9SxpHu",
        "outputId": "0043a71e-5157-4713-beca-9c4355fd1746"
      },
      "execution_count": 46,
      "outputs": [
        {
          "output_type": "execute_result",
          "data": {
            "text/plain": [
              "array([[ 523,    9],\n",
              "       [   0, 1083]])"
            ]
          },
          "metadata": {},
          "execution_count": 46
        }
      ]
    },
    {
      "cell_type": "code",
      "source": [
        "cm_test = confusion_matrix(ytest, Ptest)\n",
        "cm_test"
      ],
      "metadata": {
        "colab": {
          "base_uri": "https://localhost:8080/"
        },
        "id": "wd13B1uDx9Tq",
        "outputId": "cc46f319-9495-4eb2-9a8f-e95d0ea76e99"
      },
      "execution_count": 47,
      "outputs": [
        {
          "output_type": "execute_result",
          "data": {
            "text/plain": [
              "array([[ 99,  87],\n",
              "       [ 11, 342]])"
            ]
          },
          "metadata": {},
          "execution_count": 47
        }
      ]
    },
    {
      "cell_type": "code",
      "source": [
        "f1_score(ytrain, Ptrain)"
      ],
      "metadata": {
        "colab": {
          "base_uri": "https://localhost:8080/"
        },
        "id": "hUv088D4yCNW",
        "outputId": "e537be28-7a18-412a-b0fc-79057830ad76"
      },
      "execution_count": 48,
      "outputs": [
        {
          "output_type": "execute_result",
          "data": {
            "text/plain": [
              "0.9958620689655172"
            ]
          },
          "metadata": {},
          "execution_count": 48
        }
      ]
    },
    {
      "cell_type": "code",
      "source": [
        "f1_score(ytest, Ptest)"
      ],
      "metadata": {
        "colab": {
          "base_uri": "https://localhost:8080/"
        },
        "id": "lFQJ3yisyQh5",
        "outputId": "9f514459-89a7-46a8-fc12-c07305abc5e6"
      },
      "execution_count": 49,
      "outputs": [
        {
          "output_type": "execute_result",
          "data": {
            "text/plain": [
              "0.8746803069053708"
            ]
          },
          "metadata": {},
          "execution_count": 49
        }
      ]
    },
    {
      "cell_type": "code",
      "source": [],
      "metadata": {
        "id": "JKOuekKzyTcD"
      },
      "execution_count": null,
      "outputs": []
    }
  ]
}